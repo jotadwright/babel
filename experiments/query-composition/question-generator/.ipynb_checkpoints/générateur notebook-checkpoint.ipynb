{
 "cells": [
  {
   "cell_type": "markdown",
   "id": "e0cc6edf",
   "metadata": {},
   "source": [
    "# Générateur de questions\n",
    "\n",
    "Dans le cadre de mon mémoire, je dois réaliser préalablement un dataset de questions par rapport au schéma créer pour la première entrevue du mois de novembre."
   ]
  },
  {
   "cell_type": "code",
   "execution_count": 1,
   "id": "cfb88d24",
   "metadata": {},
   "outputs": [],
   "source": [
    "import pandas as pd\n",
    "import re\n",
    "import copy\n",
    "import numpy as np\n",
    "import time\n",
    "import psycopg2\n",
    "import random"
   ]
  },
  {
   "cell_type": "code",
   "execution_count": 2,
   "id": "b0f1597c",
   "metadata": {},
   "outputs": [],
   "source": [
    "dataset = []\n",
    "conn = psycopg2.connect(database=\"lisp_db\",\n",
    "                        host=\"localhost\",\n",
    "                        user=\"postgres\",\n",
    "                        password=\"root\",\n",
    "                        port=\"5432\")\n",
    "cursor = conn.cursor()"
   ]
  },
  {
   "cell_type": "code",
   "execution_count": 3,
   "id": "69e1cbef",
   "metadata": {},
   "outputs": [
    {
     "name": "stdout",
     "output_type": "stream",
     "text": [
      "177\n"
     ]
    }
   ],
   "source": [
    "#all info of country\n",
    "question = \"what is all the country information for \"\n",
    "query = \"SELECT name FROM country;\"\n",
    "cursor.execute(query)\n",
    "datas = cursor.fetchall()\n",
    "for row in datas:\n",
    "    dataset.append([question + row[0], \"SELECT * FROM country where name=\"+row[0], None])\n",
    "print(len(dataset))"
   ]
  },
  {
   "cell_type": "code",
   "execution_count": 4,
   "id": "634c3a1e",
   "metadata": {},
   "outputs": [
    {
     "name": "stdout",
     "output_type": "stream",
     "text": [
      "183\n"
     ]
    }
   ],
   "source": [
    "#all info of continent\n",
    "question = \"what is all the continent information for \"\n",
    "query = \"SELECT name FROM continent;\"\n",
    "cursor.execute(query)\n",
    "datas = cursor.fetchall()\n",
    "for row in datas:\n",
    "    dataset.append([question + row[0], \"SELECT * FROM continent where name=\"+row[0], None])\n",
    "print(len(dataset))"
   ]
  },
  {
   "cell_type": "code",
   "execution_count": 5,
   "id": "fcf3a4e7",
   "metadata": {},
   "outputs": [
    {
     "name": "stdout",
     "output_type": "stream",
     "text": [
      "188\n"
     ]
    }
   ],
   "source": [
    "#all info of river\n",
    "question = \"what is all the river information for \"\n",
    "query = \"SELECT name FROM river;\"\n",
    "cursor.execute(query)\n",
    "datas = cursor.fetchall()\n",
    "for row in datas:\n",
    "    dataset.append([question + row[0], \"SELECT * FROM river where name=\"+row[0], None])\n",
    "print(len(dataset))"
   ]
  },
  {
   "cell_type": "code",
   "execution_count": 6,
   "id": "849bb6e0",
   "metadata": {},
   "outputs": [
    {
     "name": "stdout",
     "output_type": "stream",
     "text": [
      "193\n"
     ]
    }
   ],
   "source": [
    "#all info of road\n",
    "question = \"what is all the road information for \"\n",
    "query = \"SELECT name FROM road;\"\n",
    "cursor.execute(query)\n",
    "datas = cursor.fetchall()\n",
    "for row in datas:\n",
    "    dataset.append([question + row[0], \"SELECT * FROM road where name=\"+row[0], None])\n",
    "print(len(dataset))"
   ]
  },
  {
   "cell_type": "code",
   "execution_count": 7,
   "id": "024cad59",
   "metadata": {},
   "outputs": [
    {
     "name": "stdout",
     "output_type": "stream",
     "text": [
      "198\n"
     ]
    }
   ],
   "source": [
    "#all info of city\n",
    "question = \"what is all the city information for \"\n",
    "query = \"SELECT name FROM city;\"\n",
    "cursor.execute(query)\n",
    "datas = cursor.fetchall()\n",
    "for row in datas:\n",
    "    dataset.append([question + row[0], \"SELECT * FROM city where name=\"+row[0], None])\n",
    "print(len(dataset))"
   ]
  },
  {
   "cell_type": "code",
   "execution_count": 8,
   "id": "f45f5aad",
   "metadata": {},
   "outputs": [
    {
     "name": "stdout",
     "output_type": "stream",
     "text": [
      "204\n"
     ]
    }
   ],
   "source": [
    "# all info from country which continent X\n",
    "question = \"what is all the information from the countries belonging to the continent \"\n",
    "query = \"SELECT name from continent;\"\n",
    "cursor.execute(query)\n",
    "datas = cursor.fetchall()\n",
    "for row in datas:\n",
    "    dataset.append([\n",
    "        question + row[0], \n",
    "        \"SELECT country.* FROM country INNER JOIN continent on continent.id = country.continentId WHERE continent.name=\"+row[0],\n",
    "        None])\n",
    "print(len(dataset))"
   ]
  },
  {
   "cell_type": "code",
   "execution_count": 9,
   "id": "3962c788",
   "metadata": {},
   "outputs": [
    {
     "name": "stdout",
     "output_type": "stream",
     "text": [
      "381\n"
     ]
    }
   ],
   "source": [
    "# all info from city which contry X\n",
    "question = \"what are all the information of the cities belonging to the country \"\n",
    "query = \"SELECT name from country;\"\n",
    "cursor.execute(query)\n",
    "datas = cursor.fetchall()\n",
    "for row in datas:\n",
    "    dataset.append([\n",
    "        question + row[0], \n",
    "        \"SELECT city.* FROM city INNER JOIN country on country.id = city.countryId WHERE country.name=\"+row[0],\n",
    "        None])\n",
    "print(len(dataset))"
   ]
  },
  {
   "cell_type": "code",
   "execution_count": 10,
   "id": "fe860b49",
   "metadata": {},
   "outputs": [
    {
     "name": "stdout",
     "output_type": "stream",
     "text": [
      "558\n"
     ]
    }
   ],
   "source": [
    "# all info from road belonging to country\n",
    "question = \"what are all the information of the roads belonging to the country \"\n",
    "query = \"SELECT name from country;\"\n",
    "cursor.execute(query)\n",
    "datas = cursor.fetchall()\n",
    "for row in datas:\n",
    "    dataset.append([\n",
    "        question + row[0], \n",
    "        \"SELECT road.* FROM road INNER JOIN country on country.id = road.countryId WHERE country.name=\"+row[0],\n",
    "        None])\n",
    "print(len(dataset))"
   ]
  },
  {
   "cell_type": "code",
   "execution_count": 11,
   "id": "9749f9bf",
   "metadata": {},
   "outputs": [
    {
     "name": "stdout",
     "output_type": "stream",
     "text": [
      "563\n"
     ]
    }
   ],
   "source": [
    "# all info from river belonging to city\n",
    "question = \"what are all the information of the rivers belonging to the city \"\n",
    "query = \"SELECT name from city;\"\n",
    "cursor.execute(query)\n",
    "datas = cursor.fetchall()\n",
    "for row in datas:\n",
    "    dataset.append([\n",
    "        question + row[0], \n",
    "        \"SELECT river.* FROM river INNER JOIN country_river  on river.id = country_river.riverId INNER JOIN country on country.id = country_river.countryId WHERE country.name=\"+row[0],\n",
    "        None])\n",
    "print(len(dataset))"
   ]
  },
  {
   "cell_type": "code",
   "execution_count": 12,
   "id": "bb367318",
   "metadata": {},
   "outputs": [
    {
     "name": "stdout",
     "output_type": "stream",
     "text": [
      "740\n"
     ]
    }
   ],
   "source": [
    "# all info from continent with a country X\n",
    "question = \"what is all the information of a continent with the country \"\n",
    "query = \"SELECT name from country;\"\n",
    "cursor.execute(query)\n",
    "datas = cursor.fetchall()\n",
    "for row in datas:\n",
    "    dataset.append([\n",
    "        question + row[0], \n",
    "        \"SELECT continent.* FROM continent INNER JOIN country on continent.id = country.continentId WHERE country.name=\"+row[0],\n",
    "        None])\n",
    "print(len(dataset))"
   ]
  },
  {
   "cell_type": "code",
   "execution_count": 13,
   "id": "fbb3bf8f",
   "metadata": {},
   "outputs": [
    {
     "name": "stdout",
     "output_type": "stream",
     "text": [
      "746\n"
     ]
    }
   ],
   "source": [
    "# the population of continent X\n",
    "question = \"what is the population of the continent \"\n",
    "query = \"SELECT name from continent;\"\n",
    "cursor.execute(query)\n",
    "datas = cursor.fetchall()\n",
    "for row in datas:\n",
    "    cursor.execute(\"SELECT population FROM continent WHERE name=\\'\"+row[0]+\"\\'\")\n",
    "    result = cursor.fetchone()\n",
    "    dataset.append([question+row[0], \"SELECT population FROM continent WHERE name=\\\"\"+row[0]+\"\\\"\", int(result[0])])\n",
    "print(len(dataset))"
   ]
  },
  {
   "cell_type": "code",
   "execution_count": 14,
   "id": "3a0d6c73",
   "metadata": {},
   "outputs": [
    {
     "name": "stdout",
     "output_type": "stream",
     "text": [
      "923\n"
     ]
    }
   ],
   "source": [
    "# the population of country X\n",
    "question = \"what is the population of the country \"\n",
    "query = \"SELECT name from country;\"\n",
    "cursor.execute(query)\n",
    "datas = cursor.fetchall()\n",
    "for row in datas:\n",
    "    cursor.execute(\"SELECT population FROM country WHERE name=\\'\"+row[0]+\"\\'\")\n",
    "    result = cursor.fetchone()\n",
    "    dataset.append([question+row[0], \"SELECT population FROM country WHERE name=\\\"\"+row[0]+\"\\\"\", int(result[0])])\n",
    "print(len(dataset))"
   ]
  },
  {
   "cell_type": "code",
   "execution_count": 15,
   "id": "3771fa3f",
   "metadata": {},
   "outputs": [
    {
     "ename": "AttributeError",
     "evalue": "'list' object has no attribute 'to_csv'",
     "output_type": "error",
     "traceback": [
      "\u001b[1;31m---------------------------------------------------------------------------\u001b[0m",
      "\u001b[1;31mAttributeError\u001b[0m                            Traceback (most recent call last)",
      "Input \u001b[1;32mIn [15]\u001b[0m, in \u001b[0;36m<cell line: 1>\u001b[1;34m()\u001b[0m\n\u001b[1;32m----> 1\u001b[0m \u001b[43mdataset\u001b[49m\u001b[38;5;241;43m.\u001b[39;49m\u001b[43mto_csv\u001b[49m(\u001b[38;5;124mr\u001b[39m\u001b[38;5;124m'\u001b[39m\u001b[38;5;124m.\u001b[39m\u001b[38;5;124m\\\u001b[39m\u001b[38;5;124mquestions.csv\u001b[39m\u001b[38;5;124m'\u001b[39m, index\u001b[38;5;241m=\u001b[39m\u001b[38;5;28;01mFalse\u001b[39;00m)\n",
      "\u001b[1;31mAttributeError\u001b[0m: 'list' object has no attribute 'to_csv'"
     ]
    }
   ],
   "source": [
    "dataset.to_csv(r'.\\questions.csv', index=False)"
   ]
  },
  {
   "cell_type": "code",
   "execution_count": null,
   "id": "16441dc9",
   "metadata": {},
   "outputs": [],
   "source": []
  }
 ],
 "metadata": {
  "kernelspec": {
   "display_name": "Python 3 (ipykernel)",
   "language": "python",
   "name": "python3"
  },
  "language_info": {
   "codemirror_mode": {
    "name": "ipython",
    "version": 3
   },
   "file_extension": ".py",
   "mimetype": "text/x-python",
   "name": "python",
   "nbconvert_exporter": "python",
   "pygments_lexer": "ipython3",
   "version": "3.9.12"
  }
 },
 "nbformat": 4,
 "nbformat_minor": 5
}
