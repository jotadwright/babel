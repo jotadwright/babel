{
 "cells": [
  {
   "cell_type": "markdown",
   "id": "e0cc6edf",
   "metadata": {},
   "source": [
    "# Générateur de questions\n",
    "\n",
    "Dans le cadre de mon mémoire, je dois réaliser préalablement un dataset de questions par rapport au schéma créer pour la première entrevue du mois de novembre."
   ]
  },
  {
   "cell_type": "code",
   "execution_count": 25,
   "id": "cfb88d24",
   "metadata": {},
   "outputs": [],
   "source": [
    "import pandas as pd\n",
    "import re\n",
    "import copy\n",
    "import numpy as np\n",
    "import time\n",
    "import psycopg2\n",
    "import random"
   ]
  },
  {
   "cell_type": "code",
   "execution_count": 26,
   "id": "b0f1597c",
   "metadata": {},
   "outputs": [],
   "source": [
    "dataset = []\n",
    "conn = psycopg2.connect(database=\"lisp_db\",\n",
    "                        host=\"localhost\",\n",
    "                        user=\"postgres\",\n",
    "                        password=\"root\",\n",
    "                        port=\"5432\")\n",
    "cursor = conn.cursor()"
   ]
  },
  {
   "cell_type": "markdown",
   "id": "f0373fc3",
   "metadata": {},
   "source": [
    "## Simple questions All informations"
   ]
  },
  {
   "cell_type": "code",
   "execution_count": 22,
   "id": "69e1cbef",
   "metadata": {},
   "outputs": [
    {
     "name": "stdout",
     "output_type": "stream",
     "text": [
      "177\n"
     ]
    }
   ],
   "source": [
    "#all info of country\n",
    "question = \"what is all the country information for \"\n",
    "query = \"SELECT name FROM country;\"\n",
    "cursor.execute(query)\n",
    "datas = cursor.fetchall()\n",
    "for row in datas:\n",
    "    dataset.append([question + row[0], \"SELECT * FROM country where name= \\'\"+row[0] + \"\\'\"])\n",
    "print(len(dataset))"
   ]
  },
  {
   "cell_type": "code",
   "execution_count": 23,
   "id": "634c3a1e",
   "metadata": {},
   "outputs": [
    {
     "name": "stdout",
     "output_type": "stream",
     "text": [
      "183\n"
     ]
    }
   ],
   "source": [
    "#all info of continent\n",
    "question = \"what is all the continent information for \"\n",
    "query = \"SELECT name FROM continent;\"\n",
    "cursor.execute(query)\n",
    "datas = cursor.fetchall()\n",
    "for row in datas:\n",
    "    dataset.append([question + row[0], \"SELECT * FROM continent where name=\\'\"+row[0] + \"\\'\"])\n",
    "print(len(dataset))"
   ]
  },
  {
   "cell_type": "code",
   "execution_count": 24,
   "id": "fcf3a4e7",
   "metadata": {},
   "outputs": [
    {
     "name": "stdout",
     "output_type": "stream",
     "text": [
      "188\n"
     ]
    }
   ],
   "source": [
    "#all info of river\n",
    "question = \"what is all the river information for \"\n",
    "query = \"SELECT name FROM river;\"\n",
    "cursor.execute(query)\n",
    "datas = cursor.fetchall()\n",
    "for row in datas:\n",
    "    dataset.append([question + row[0], \"SELECT * FROM river where name= \\'\"+row[0] + \"\\'\"])\n",
    "print(len(dataset))"
   ]
  },
  {
   "cell_type": "code",
   "execution_count": 6,
   "id": "849bb6e0",
   "metadata": {},
   "outputs": [
    {
     "name": "stdout",
     "output_type": "stream",
     "text": [
      "193\n"
     ]
    }
   ],
   "source": [
    "#all info of road\n",
    "question = \"what is all the road information for \"\n",
    "query = \"SELECT name FROM road;\"\n",
    "cursor.execute(query)\n",
    "datas = cursor.fetchall()\n",
    "for row in datas:\n",
    "    dataset.append([question + row[0], \"SELECT * FROM road where name= \\'\"+row[0] + \"\\'\"])\n",
    "print(len(dataset))"
   ]
  },
  {
   "cell_type": "code",
   "execution_count": 8,
   "id": "024cad59",
   "metadata": {},
   "outputs": [
    {
     "name": "stdout",
     "output_type": "stream",
     "text": [
      "198\n"
     ]
    }
   ],
   "source": [
    "#all info of city\n",
    "question = \"what is all the city information for \"\n",
    "query = \"SELECT name FROM city;\"\n",
    "cursor.execute(query)\n",
    "datas = cursor.fetchall()\n",
    "for row in datas:\n",
    "    dataset.append([question + row[0], \"SELECT * FROM city where name=\\'\"+row[0] + \"\\'\"])\n",
    "print(len(dataset))"
   ]
  },
  {
   "cell_type": "markdown",
   "id": "a6b2bf74",
   "metadata": {},
   "source": [
    "## Table Continent"
   ]
  },
  {
   "cell_type": "code",
   "execution_count": 27,
   "id": "dfdd0d8a",
   "metadata": {},
   "outputs": [
    {
     "name": "stdout",
     "output_type": "stream",
     "text": [
      "1\n"
     ]
    }
   ],
   "source": [
    "# the name of continents\n",
    "question = \"what are the names of the continents ?\"\n",
    "dataset.append([question, \"SELECT name FROM continent\"])\n",
    "print(len(dataset))"
   ]
  },
  {
   "cell_type": "code",
   "execution_count": 28,
   "id": "fbb3bf8f",
   "metadata": {},
   "outputs": [
    {
     "name": "stdout",
     "output_type": "stream",
     "text": [
      "7\n"
     ]
    }
   ],
   "source": [
    "# the population of continent X\n",
    "question = \"what is the population of the continent \"\n",
    "query = \"SELECT name from continent;\"\n",
    "cursor.execute(query)\n",
    "datas = cursor.fetchall()\n",
    "for row in datas:\n",
    "    dataset.append([question+row[0], \"SELECT population FROM continent WHERE name=\\'\"+row[0]+\"\\'\"])\n",
    "print(len(dataset))"
   ]
  },
  {
   "cell_type": "code",
   "execution_count": 29,
   "id": "d316822e",
   "metadata": {},
   "outputs": [
    {
     "name": "stdout",
     "output_type": "stream",
     "text": [
      "13\n"
     ]
    }
   ],
   "source": [
    "# the size of continent X\n",
    "question = \"what is the size of the continent \"\n",
    "query = \"SELECT name from continent;\"\n",
    "cursor.execute(query)\n",
    "datas = cursor.fetchall()\n",
    "for row in datas:\n",
    "    dataset.append([question+row[0], \"SELECT size FROM continent WHERE name=\\'\"+row[0]+\"\\'\"])\n",
    "print(len(dataset))"
   ]
  },
  {
   "cell_type": "code",
   "execution_count": 30,
   "id": "49037c87",
   "metadata": {},
   "outputs": [
    {
     "name": "stdout",
     "output_type": "stream",
     "text": [
      "19\n"
     ]
    }
   ],
   "source": [
    "# the density of continent X\n",
    "question = \"what is the density of the continent \"\n",
    "query = \"SELECT name from continent;\"\n",
    "cursor.execute(query)\n",
    "datas = cursor.fetchall()\n",
    "for row in datas:\n",
    "    dataset.append([question+row[0], \"SELECT density FROM continent WHERE name=\\'\"+row[0]+\"\\'\"])\n",
    "print(len(dataset))"
   ]
  },
  {
   "cell_type": "markdown",
   "id": "57df4a16",
   "metadata": {},
   "source": [
    "## Table Country"
   ]
  },
  {
   "cell_type": "code",
   "execution_count": 31,
   "id": "68166f80",
   "metadata": {},
   "outputs": [
    {
     "name": "stdout",
     "output_type": "stream",
     "text": [
      "20\n"
     ]
    }
   ],
   "source": [
    "# the name of countries\n",
    "question = \"what are the names of the countries ?\"\n",
    "dataset.append([question, \"SELECT name FROM country\"])\n",
    "print(len(dataset))"
   ]
  },
  {
   "cell_type": "code",
   "execution_count": 32,
   "id": "13dbe018",
   "metadata": {},
   "outputs": [
    {
     "name": "stdout",
     "output_type": "stream",
     "text": [
      "197\n"
     ]
    }
   ],
   "source": [
    "# the population of country X\n",
    "question = \"what is the population of the country \"\n",
    "query = \"SELECT name from country;\"\n",
    "cursor.execute(query)\n",
    "datas = cursor.fetchall()\n",
    "for row in datas:\n",
    "    cursor.execute(\"SELECT population FROM country WHERE name=\\'\"+row[0]+\"\\'\")\n",
    "    result = cursor.fetchone()\n",
    "    dataset.append([question+row[0], \"SELECT population FROM country WHERE name=\\'\"+row[0]+\"\\'\"])\n",
    "print(len(dataset))"
   ]
  },
  {
   "cell_type": "code",
   "execution_count": 33,
   "id": "8575dd9f",
   "metadata": {},
   "outputs": [
    {
     "name": "stdout",
     "output_type": "stream",
     "text": [
      "374\n"
     ]
    }
   ],
   "source": [
    "# the size of country X\n",
    "question = \"what is the size of the country \"\n",
    "query = \"SELECT name from country;\"\n",
    "cursor.execute(query)\n",
    "datas = cursor.fetchall()\n",
    "for row in datas:\n",
    "    cursor.execute(\"SELECT size FROM country WHERE name=\\'\"+row[0]+\"\\'\")\n",
    "    result = cursor.fetchone()\n",
    "    dataset.append([question+row[0], \"SELECT size FROM country WHERE name=\\'\"+row[0]+\"\\'\"])\n",
    "print(len(dataset))"
   ]
  },
  {
   "cell_type": "code",
   "execution_count": 34,
   "id": "82ea30d2",
   "metadata": {},
   "outputs": [
    {
     "name": "stdout",
     "output_type": "stream",
     "text": [
      "551\n"
     ]
    }
   ],
   "source": [
    "# the density of country X\n",
    "question = \"what is the density of the country \"\n",
    "query = \"SELECT name from country;\"\n",
    "cursor.execute(query)\n",
    "datas = cursor.fetchall()\n",
    "for row in datas:\n",
    "    cursor.execute(\"SELECT density FROM country WHERE name=\\'\"+row[0]+\"\\'\")\n",
    "    result = cursor.fetchone()\n",
    "    dataset.append([question+row[0], \"SELECT density FROM country WHERE name=\\'\"+row[0]+\"\\'\"])\n",
    "print(len(dataset))"
   ]
  },
  {
   "cell_type": "markdown",
   "id": "1cd38bc9",
   "metadata": {},
   "source": [
    "## Table City"
   ]
  },
  {
   "cell_type": "code",
   "execution_count": 35,
   "id": "de7a7dc7",
   "metadata": {},
   "outputs": [
    {
     "name": "stdout",
     "output_type": "stream",
     "text": [
      "552\n"
     ]
    }
   ],
   "source": [
    "# the name of cities\n",
    "question = \"what are the names of the cities ?\"\n",
    "dataset.append([question, \"SELECT name FROM city\"])\n",
    "print(len(dataset))"
   ]
  },
  {
   "cell_type": "code",
   "execution_count": 36,
   "id": "a703a7ac",
   "metadata": {},
   "outputs": [
    {
     "name": "stdout",
     "output_type": "stream",
     "text": [
      "557\n"
     ]
    }
   ],
   "source": [
    "# the population of city X\n",
    "question = \"what is the population of the city \"\n",
    "query = \"SELECT name from city;\"\n",
    "cursor.execute(query)\n",
    "datas = cursor.fetchall()\n",
    "for row in datas:\n",
    "    cursor.execute(\"SELECT population FROM city WHERE name=\\'\"+row[0]+\"\\'\")\n",
    "    result = cursor.fetchone()\n",
    "    dataset.append([question+row[0], \"SELECT population FROM city WHERE name=\\'\"+row[0]+\"\\'\"])\n",
    "print(len(dataset))"
   ]
  },
  {
   "cell_type": "code",
   "execution_count": 37,
   "id": "aeb656ec",
   "metadata": {},
   "outputs": [
    {
     "name": "stdout",
     "output_type": "stream",
     "text": [
      "562\n"
     ]
    }
   ],
   "source": [
    "# the size of city X\n",
    "question = \"what is the size of the city \"\n",
    "query = \"SELECT name from city;\"\n",
    "cursor.execute(query)\n",
    "datas = cursor.fetchall()\n",
    "for row in datas:\n",
    "    cursor.execute(\"SELECT size FROM city WHERE name=\\'\"+row[0]+\"\\'\")\n",
    "    result = cursor.fetchone()\n",
    "    dataset.append([question+row[0], \"SELECT size FROM city WHERE name=\\'\"+row[0]+\"\\'\"])\n",
    "print(len(dataset))"
   ]
  },
  {
   "cell_type": "markdown",
   "id": "39159642",
   "metadata": {},
   "source": [
    "## Table Road"
   ]
  },
  {
   "cell_type": "code",
   "execution_count": 38,
   "id": "4a578fce",
   "metadata": {},
   "outputs": [
    {
     "name": "stdout",
     "output_type": "stream",
     "text": [
      "563\n"
     ]
    }
   ],
   "source": [
    "# the name of roads\n",
    "question = \"what are the names of the roads ?\"\n",
    "dataset.append([question, \"SELECT name FROM road\"])\n",
    "print(len(dataset))"
   ]
  },
  {
   "cell_type": "code",
   "execution_count": 39,
   "id": "c59ad737",
   "metadata": {},
   "outputs": [
    {
     "name": "stdout",
     "output_type": "stream",
     "text": [
      "568\n"
     ]
    }
   ],
   "source": [
    "# the size of road X\n",
    "question = \"what is the size of the road \"\n",
    "query = \"SELECT name from road;\"\n",
    "cursor.execute(query)\n",
    "datas = cursor.fetchall()\n",
    "for row in datas:\n",
    "    cursor.execute(\"SELECT size FROM road WHERE name=\\'\"+row[0]+\"\\'\")\n",
    "    result = cursor.fetchone()\n",
    "    dataset.append([question+row[0], \"SELECT size FROM road WHERE name=\\'\"+row[0]+\"\\'\"])\n",
    "print(len(dataset))"
   ]
  },
  {
   "cell_type": "code",
   "execution_count": 40,
   "id": "e9b19080",
   "metadata": {},
   "outputs": [
    {
     "name": "stdout",
     "output_type": "stream",
     "text": [
      "573\n"
     ]
    }
   ],
   "source": [
    "# the speed average of road X\n",
    "question = \"what is the speed average of the road \"\n",
    "query = \"SELECT name from road;\"\n",
    "cursor.execute(query)\n",
    "datas = cursor.fetchall()\n",
    "for row in datas:\n",
    "    cursor.execute(\"SELECT speedaverage FROM road WHERE name=\\'\"+row[0]+\"\\'\")\n",
    "    result = cursor.fetchone()\n",
    "    dataset.append([question+row[0], \"SELECT speedaverage FROM road WHERE name=\\'\"+row[0]+\"\\'\"])\n",
    "print(len(dataset))"
   ]
  },
  {
   "cell_type": "markdown",
   "id": "87fb58b6",
   "metadata": {},
   "source": [
    "## Table River"
   ]
  },
  {
   "cell_type": "code",
   "execution_count": 42,
   "id": "b00f0e24",
   "metadata": {},
   "outputs": [
    {
     "name": "stdout",
     "output_type": "stream",
     "text": [
      "574\n"
     ]
    }
   ],
   "source": [
    "# the name of rivers\n",
    "question = \"what are the names of the rivers ?\"\n",
    "dataset.append([question, \"SELECT name FROM river\"])\n",
    "print(len(dataset))"
   ]
  },
  {
   "cell_type": "code",
   "execution_count": 43,
   "id": "58fe2656",
   "metadata": {},
   "outputs": [
    {
     "name": "stdout",
     "output_type": "stream",
     "text": [
      "579\n"
     ]
    }
   ],
   "source": [
    "# the size of river X\n",
    "question = \"what is the size of the river \"\n",
    "query = \"SELECT name from river;\"\n",
    "cursor.execute(query)\n",
    "datas = cursor.fetchall()\n",
    "for row in datas:\n",
    "    cursor.execute(\"SELECT size FROM river WHERE name=\\'\"+row[0]+\"\\'\")\n",
    "    result = cursor.fetchone()\n",
    "    dataset.append([question+row[0], \"SELECT size FROM river WHERE name=\\'\"+row[0]+\"\\'\"])\n",
    "print(len(dataset))"
   ]
  },
  {
   "cell_type": "code",
   "execution_count": 44,
   "id": "3b081299",
   "metadata": {},
   "outputs": [
    {
     "name": "stdout",
     "output_type": "stream",
     "text": [
      "584\n"
     ]
    }
   ],
   "source": [
    "# the flow of river X\n",
    "question = \"what is the flow of the river \"\n",
    "query = \"SELECT name from river;\"\n",
    "cursor.execute(query)\n",
    "datas = cursor.fetchall()\n",
    "for row in datas:\n",
    "    cursor.execute(\"SELECT flow FROM river WHERE name=\\'\"+row[0]+\"\\'\")\n",
    "    result = cursor.fetchone()\n",
    "    dataset.append([question+row[0], \"SELECT flow FROM river WHERE name=\\'\"+row[0]+\"\\'\"])\n",
    "print(len(dataset))"
   ]
  },
  {
   "cell_type": "markdown",
   "id": "94906893",
   "metadata": {},
   "source": [
    "# Write to CSV"
   ]
  },
  {
   "cell_type": "code",
   "execution_count": 45,
   "id": "0370799f",
   "metadata": {},
   "outputs": [],
   "source": [
    "d = np.array(dataset)\n",
    "df = pd.DataFrame(d, columns = ['question', 'query'])\n",
    "df.to_csv('questions.csv', encoding='utf-8', index=False, header=False)"
   ]
  },
  {
   "cell_type": "markdown",
   "id": "0bb4b6ba",
   "metadata": {},
   "source": [
    "## Complex Questions"
   ]
  },
  {
   "cell_type": "code",
   "execution_count": null,
   "id": "2aeae1b0",
   "metadata": {},
   "outputs": [],
   "source": [
    "# all info from continent with a country X\n",
    "question = \"what is all the information of a continent with the country \"\n",
    "query = \"SELECT name from country;\"\n",
    "cursor.execute(query)\n",
    "datas = cursor.fetchall()\n",
    "for row in datas:\n",
    "    dataset.append([\n",
    "        question + row[0], \n",
    "        \"SELECT continent.* FROM continent INNER JOIN country on continent.id = country.continentId WHERE country.name=\\'\"+row[0]+\"\\'\"])\n",
    "print(len(dataset))"
   ]
  },
  {
   "cell_type": "code",
   "execution_count": null,
   "id": "3b046564",
   "metadata": {},
   "outputs": [],
   "source": [
    "# all info from river belonging to city\n",
    "question = \"what are all the information of the rivers belonging to the city \"\n",
    "query = \"SELECT name from city;\"\n",
    "cursor.execute(query)\n",
    "datas = cursor.fetchall()\n",
    "for row in datas:\n",
    "    dataset.append([\n",
    "        question + row[0], \n",
    "        \"SELECT river.* FROM river INNER JOIN country_river  on river.id = country_river.riverId INNER JOIN country on country.id = country_river.countryId WHERE country.name= \\'\"+row[0] + \"\\'\"])\n",
    "print(len(dataset))"
   ]
  },
  {
   "cell_type": "code",
   "execution_count": null,
   "id": "9f9148a1",
   "metadata": {},
   "outputs": [],
   "source": [
    "# all info from road belonging to country\n",
    "question = \"what are all the information of the roads belonging to the country \"\n",
    "query = \"SELECT name from country;\"\n",
    "cursor.execute(query)\n",
    "datas = cursor.fetchall()\n",
    "for row in datas:\n",
    "    dataset.append([\n",
    "        question + row[0], \n",
    "        \"SELECT road.* FROM road INNER JOIN country on country.id = road.countryId WHERE country.name=\\'\"+row[0] + \"\\'\"])\n",
    "print(len(dataset))"
   ]
  },
  {
   "cell_type": "code",
   "execution_count": null,
   "id": "d2869a48",
   "metadata": {},
   "outputs": [],
   "source": [
    "# all info from country which continent X\n",
    "question = \"what is all the information from the countries belonging to the continent \"\n",
    "query = \"SELECT name from continent;\"\n",
    "cursor.execute(query)\n",
    "datas = cursor.fetchall()\n",
    "for row in datas:\n",
    "    dataset.append([\n",
    "        question + row[0], \n",
    "        \"SELECT country.* FROM country INNER JOIN continent on continent.id = country.continentId WHERE continent.name= \\'\"+row[0] + \"\\'\"])\n",
    "print(len(dataset))"
   ]
  },
  {
   "cell_type": "code",
   "execution_count": null,
   "id": "b0ce73b4",
   "metadata": {},
   "outputs": [],
   "source": [
    "# all info from city which contry X\n",
    "question = \"what are all the information of the cities belonging to the country \"\n",
    "query = \"SELECT name from country;\"\n",
    "cursor.execute(query)\n",
    "datas = cursor.fetchall()\n",
    "for row in datas:\n",
    "    dataset.append([\n",
    "        question + row[0], \n",
    "        \"SELECT city.* FROM city INNER JOIN country on country.id = city.countryId WHERE country.name= \\'\"+row[0] + \"\\'\"])\n",
    "print(len(dataset))"
   ]
  }
 ],
 "metadata": {
  "kernelspec": {
   "display_name": "Python 3 (ipykernel)",
   "language": "python",
   "name": "python3"
  },
  "language_info": {
   "codemirror_mode": {
    "name": "ipython",
    "version": 3
   },
   "file_extension": ".py",
   "mimetype": "text/x-python",
   "name": "python",
   "nbconvert_exporter": "python",
   "pygments_lexer": "ipython3",
   "version": "3.9.12"
  }
 },
 "nbformat": 4,
 "nbformat_minor": 5
}
