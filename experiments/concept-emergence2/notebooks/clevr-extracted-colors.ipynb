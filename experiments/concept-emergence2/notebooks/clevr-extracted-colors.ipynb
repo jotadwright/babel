{
 "cells": [
  {
   "cell_type": "markdown",
   "metadata": {},
   "source": [
    "#### Notebook to create clevr/cogent extracted data"
   ]
  },
  {
   "cell_type": "code",
   "execution_count": 1,
   "metadata": {},
   "outputs": [],
   "source": [
    "import json\n",
    "import math\n",
    "import os\n",
    "from pprint import pprint\n",
    "\n",
    "import numpy as np\n",
    "import pandas as pd\n",
    "import scipy.stats as statst"
   ]
  },
  {
   "cell_type": "code",
   "execution_count": 2,
   "metadata": {},
   "outputs": [],
   "source": [
    "# create a function that reads a file in and insert on the first line the following string objects: and save the file again\n",
    "def insert_string_in_file(file_path, string):\n",
    "    with open(file_path, 'r+') as f:\n",
    "        content = f.read()\n",
    "        f.seek(0, 0)\n",
    "        f.write(string.rstrip('\\r\\n') + '\\n' + content)\n",
    "\n",
    "def insert_comma_after_closing_bracket(file_path):\n",
    "    with open(file_path, 'r+') as f:\n",
    "        content = f.read()\n",
    "        content = content.replace('}', '},')\n",
    "        f.seek(0, 0)\n",
    "        f.write(content)\n",
    "\n",
    "def truncate_last_char(file_path):\n",
    "    with open(file_path, 'rb+') as f:\n",
    "        f.seek(-1, os.SEEK_END)\n",
    "        f.truncate()\n",
    "\n",
    "def insert_string_in_file2(file_path, string):\n",
    "    with open(file_path, 'r+') as f:\n",
    "        content = f.read()\n",
    "        f.seek(0, 0)\n",
    "        f.write(content.rstrip('\\r\\n') + '\\n' + string.rstrip('\\r\\n') + '\\n')\n",
    "\n",
    "def transform_file_to_json(fpath):\n",
    "    insert_string_in_file(fpath, '{\"objects\": [')\n",
    "    insert_comma_after_closing_bracket(fpath)\n",
    "    truncate_last_char(fpath)\n",
    "    insert_string_in_file2(fpath, ']}')\n"
   ]
  },
  {
   "cell_type": "code",
   "execution_count": null,
   "metadata": {},
   "outputs": [],
   "source": [
    "fpath = os.path.join(os.getenv('HOME'), \"Corpora/CLEVR-extracted/scenes/CLEVR_val_000001.json\")\n",
    "transform_file_to_json(fpath)"
   ]
  },
  {
   "cell_type": "code",
   "execution_count": null,
   "metadata": {},
   "outputs": [],
   "source": [
    "base_dir = os.path.join(os.getenv('HOME'), \"Corpora/clevr-extracted-colors/scenes/\")\n",
    "input_dir = os.path.join(base_dir, \"val\")\n",
    "output_dir = os.path.join(base_dir, \"t-val\")\n",
    "\n",
    "for root, dirs, files in os.walk(input_dir):\n",
    "    for fname in files:\n",
    "        # if fname is not .DS_Store\n",
    "        if (not fname.startswith('.')):\n",
    "            print(fname)\n",
    "            transform_file_to_json(os.path.join(root, fname))"
   ]
  },
  {
   "cell_type": "code",
   "execution_count": 7,
   "metadata": {},
   "outputs": [],
   "source": [
    "def find_extrema(scene, extrema):\n",
    "    for obj in scene['objects']:\n",
    "        for attr in obj:\n",
    "            if attr in extrema:\n",
    "                if obj[attr] < extrema[attr]['min']:\n",
    "                    extrema[attr]['min'] = obj[attr]\n",
    "                if obj[attr] > extrema[attr]['max']:\n",
    "                    extrema[attr]['max'] = obj[attr]\n",
    "            else:\n",
    "                extrema[attr] = {'min': obj[attr], 'max': obj[attr]}\n",
    "    return extrema"
   ]
  },
  {
   "cell_type": "code",
   "execution_count": 9,
   "metadata": {},
   "outputs": [],
   "source": [
    "base_dir = os.path.join(os.getenv('HOME'), \"Corpora/clevr-extracted-colors/scenes/\")\n",
    "input_dir = os.path.join(base_dir, \"val\")\n",
    "\n",
    "extrema = {}\n",
    "for root, dirs, files in os.walk(input_dir):\n",
    "    for fname in files:\n",
    "        # if fname is not .DS_Store\n",
    "        if (not fname.startswith('.')):\n",
    "            with open(os.path.join(root, fname)) as f:\n",
    "                scene = json.load(f)\n",
    "                extrema = find_extrema(scene, extrema)"
   ]
  },
  {
   "cell_type": "code",
   "execution_count": 10,
   "metadata": {},
   "outputs": [
    {
     "data": {
      "text/plain": [
       "{'xpos': {'min': 30.5, 'max': 453.8041076660156},\n",
       " 'ypos': {'min': 50.053192138671875, 'max': 293.42584228515625},\n",
       " 'width': {'min': 4.0, 'max': 148.0},\n",
       " 'height': {'min': 6.0, 'max': 151.99996948242188},\n",
       " 'angle': {'min': -90.0, 'max': -0.0},\n",
       " 'corners': {'min': 3, 'max': 8},\n",
       " 'area': {'min': 47.5, 'max': 17299.0},\n",
       " 'relative-area': {'min': 0.00030924479166666665, 'max': 0.11262369791666667},\n",
       " 'bb-area': {'min': 84.0, 'max': 21395.274296201533},\n",
       " 'bb-area-ratio': {'min': 0.1575647132196773, 'max': 0.9993035396725399},\n",
       " 'wh-ratio': {'min': 0.175, 'max': 6.866666925743309},\n",
       " 'color-mean': {'min': [7.225993676682442e-05,\n",
       "   53.17488314666197,\n",
       "   38.316723990945704],\n",
       "  'max': [359.99994774464784, 52.24493731918998, 43.471016822029355]},\n",
       " 'color-std': {'min': [0.2194593446811935,\n",
       "   25.090866828390613,\n",
       "   10.524596715025808],\n",
       "  'max': [85.39907841674545, 2.654344837939917, 8.820352321222213]},\n",
       " 'circle-distance': {'min': 0.7737359871882864, 'max': 1.0},\n",
       " 'white-level': {'min': 0.0, 'max': 20.28998505231689},\n",
       " 'black-level': {'min': 0.0, 'max': 26.1439588688946}}"
      ]
     },
     "execution_count": 10,
     "metadata": {},
     "output_type": "execute_result"
    }
   ],
   "source": [
    "extrema"
   ]
  },
  {
   "cell_type": "code",
   "execution_count": 12,
   "metadata": {},
   "outputs": [],
   "source": [
    "def get_vals(scene, attr):\n",
    "    vals = []\n",
    "    for obj in scene['objects']:\n",
    "        vals.append(obj[attr])\n",
    "    return vals"
   ]
  },
  {
   "cell_type": "code",
   "execution_count": 45,
   "metadata": {},
   "outputs": [],
   "source": [
    "base_dir = os.path.join(os.getenv('HOME'), \"Corpora/clevr-extracted-colors/scenes/\")\n",
    "input_dir = os.path.join(base_dir, \"val\")\n",
    "\n",
    "black = []\n",
    "white = []\n",
    "wh_ratio = []\n",
    "area = []\n",
    "for root, dirs, files in os.walk(input_dir):\n",
    "    for fname in files:\n",
    "        # if fname is not .DS_Store\n",
    "        if (not fname.startswith('.')):\n",
    "            with open(os.path.join(root, fname)) as f:\n",
    "                scene = json.load(f)\n",
    "                black.extend(get_vals(scene, 'black-level'))\n",
    "                white.extend(get_vals(scene, 'white-level'))\n",
    "                wh_ratio.extend(get_vals(scene, 'wh-ratio'))\n",
    "                area.extend(get_vals(scene, 'area'))"
   ]
  },
  {
   "cell_type": "code",
   "execution_count": 47,
   "metadata": {},
   "outputs": [],
   "source": [
    "# make the two black and white lists into a pandas dataframe\n",
    "df = pd.DataFrame({'black': black, 'white': white, 'wh-ratio': wh_ratio, 'area': area})\n"
   ]
  },
  {
   "cell_type": "code",
   "execution_count": 48,
   "metadata": {},
   "outputs": [
    {
     "data": {
      "text/html": [
       "<div>\n",
       "<style scoped>\n",
       "    .dataframe tbody tr th:only-of-type {\n",
       "        vertical-align: middle;\n",
       "    }\n",
       "\n",
       "    .dataframe tbody tr th {\n",
       "        vertical-align: top;\n",
       "    }\n",
       "\n",
       "    .dataframe thead th {\n",
       "        text-align: right;\n",
       "    }\n",
       "</style>\n",
       "<table border=\"1\" class=\"dataframe\">\n",
       "  <thead>\n",
       "    <tr style=\"text-align: right;\">\n",
       "      <th></th>\n",
       "      <th>black</th>\n",
       "      <th>white</th>\n",
       "      <th>wh-ratio</th>\n",
       "      <th>area</th>\n",
       "    </tr>\n",
       "  </thead>\n",
       "  <tbody>\n",
       "    <tr>\n",
       "      <th>count</th>\n",
       "      <td>97281.000000</td>\n",
       "      <td>97281.000000</td>\n",
       "      <td>97281.000000</td>\n",
       "      <td>97281.000000</td>\n",
       "    </tr>\n",
       "    <tr>\n",
       "      <th>mean</th>\n",
       "      <td>0.591259</td>\n",
       "      <td>0.097901</td>\n",
       "      <td>0.957216</td>\n",
       "      <td>3250.479446</td>\n",
       "    </tr>\n",
       "    <tr>\n",
       "      <th>std</th>\n",
       "      <td>0.946396</td>\n",
       "      <td>0.447818</td>\n",
       "      <td>0.227302</td>\n",
       "      <td>2709.536134</td>\n",
       "    </tr>\n",
       "    <tr>\n",
       "      <th>min</th>\n",
       "      <td>0.000000</td>\n",
       "      <td>0.000000</td>\n",
       "      <td>0.175000</td>\n",
       "      <td>47.500000</td>\n",
       "    </tr>\n",
       "    <tr>\n",
       "      <th>25%</th>\n",
       "      <td>0.095603</td>\n",
       "      <td>0.007713</td>\n",
       "      <td>0.818320</td>\n",
       "      <td>1180.500000</td>\n",
       "    </tr>\n",
       "    <tr>\n",
       "      <th>50%</th>\n",
       "      <td>0.282149</td>\n",
       "      <td>0.022196</td>\n",
       "      <td>0.966667</td>\n",
       "      <td>2240.500000</td>\n",
       "    </tr>\n",
       "    <tr>\n",
       "      <th>75%</th>\n",
       "      <td>0.689185</td>\n",
       "      <td>0.058585</td>\n",
       "      <td>1.025000</td>\n",
       "      <td>4660.500000</td>\n",
       "    </tr>\n",
       "    <tr>\n",
       "      <th>max</th>\n",
       "      <td>26.143959</td>\n",
       "      <td>20.289985</td>\n",
       "      <td>6.866667</td>\n",
       "      <td>17299.000000</td>\n",
       "    </tr>\n",
       "  </tbody>\n",
       "</table>\n",
       "</div>"
      ],
      "text/plain": [
       "              black         white      wh-ratio          area\n",
       "count  97281.000000  97281.000000  97281.000000  97281.000000\n",
       "mean       0.591259      0.097901      0.957216   3250.479446\n",
       "std        0.946396      0.447818      0.227302   2709.536134\n",
       "min        0.000000      0.000000      0.175000     47.500000\n",
       "25%        0.095603      0.007713      0.818320   1180.500000\n",
       "50%        0.282149      0.022196      0.966667   2240.500000\n",
       "75%        0.689185      0.058585      1.025000   4660.500000\n",
       "max       26.143959     20.289985      6.866667  17299.000000"
      ]
     },
     "execution_count": 48,
     "metadata": {},
     "output_type": "execute_result"
    }
   ],
   "source": [
    "df.describe()"
   ]
  },
  {
   "cell_type": "code",
   "execution_count": 49,
   "metadata": {},
   "outputs": [
    {
     "data": {
      "text/plain": [
       "8831.0"
      ]
     },
     "execution_count": 49,
     "metadata": {},
     "output_type": "execute_result"
    }
   ],
   "source": [
    "# get 99th percentile of black column in df\n",
    "df['area'].quantile(0.95)"
   ]
  },
  {
   "cell_type": "code",
   "execution_count": 52,
   "metadata": {},
   "outputs": [
    {
     "data": {
      "text/plain": [
       "0"
      ]
     },
     "execution_count": 52,
     "metadata": {},
     "output_type": "execute_result"
    }
   ],
   "source": [
    "val = -0.1\n",
    "# ensure that val is between 0 and 1\n",
    "val = max(0, min(1, val))\n",
    "val"
   ]
  },
  {
   "cell_type": "code",
   "execution_count": 28,
   "metadata": {},
   "outputs": [],
   "source": [
    "def normalise_val_in_range(x, a, b):\n",
    "    return (x - a) / (b - a)\n",
    "\n",
    "def normalise_val(attr, val):\n",
    "    match attr:\n",
    "        case \"xpos\":\n",
    "            min1, max1 = 0, 480\n",
    "        case \"ypos\":\n",
    "            min1, max1 = 0, 320\n",
    "        case \"width\":\n",
    "            min1, max1 = 0, 320\n",
    "        case \"height\":\n",
    "            min1, max1 = 0, 480\n",
    "        case \"angle\":\n",
    "            min1, max1 = 0, 90\n",
    "        case \"corners\":\n",
    "            min1, max1 = 3, 8\n",
    "        case \"area\":\n",
    "            min1, max1 = 0, 153600/4\n",
    "        case \"relative-area\":\n",
    "            min1, max1 = 0, 1\n",
    "        case \"bb-area\":\n",
    "            min1, max1 = 0, 153600/4\n",
    "        case \"bb-area-ratio\":\n",
    "            min1, max1 = 0, 1\n",
    "        case \"wh-ratio\":\n",
    "            min1, max1 = 0, 1\n",
    "        case \"circle-distance\":\n",
    "            min1, max1 = 0, 1\n",
    "        case \"white-level\":\n",
    "            min1, max1 = 0, 1\n",
    "        case \"black-level\":\n",
    "            min1, max1 = 0, 1\n",
    "        case \"color-mean-lab-l\":\n",
    "            min1, max1 = 0, 100\n",
    "        case \"color-mean-lab-a\":\n",
    "            min1, max1 = -128, 127\n",
    "        case \"color-mean-lab-b\":\n",
    "            min1, max1 = -128, 127\n",
    "        case \"color-std-lab-l\":\n",
    "            min1, max1 = 0, 100\n",
    "        case \"color-std-lab-a\":\n",
    "            min1, max1 = -128, 127\n",
    "        case \"color-std-lab-b\":\n",
    "            min1, max1 = -128, 127\n",
    "        case \"color-mean-rgb-r\":\n",
    "            min1, max1 = 0, 1\n",
    "        case \"color-mean-rgb-g\":\n",
    "            min1, max1 = 0, 1\n",
    "        case \"color-mean-rgb-b\":\n",
    "            min1, max1 = 0, 1\n",
    "        case \"color-std-rgb-r\":\n",
    "            min1, max1 = 0, 1\n",
    "        case \"color-std-rgb-g\":\n",
    "            min1, max1 = 0, 1\n",
    "        case \"color-std-rgb-b\":\n",
    "            min1, max1 = 0, 1\n",
    "    \n",
    "    normalised_val = normalise_val_in_range(val, min1, max1)\n",
    "    return max(0, min(1, normalised_val))"
   ]
  },
  {
   "cell_type": "code",
   "execution_count": 29,
   "metadata": {},
   "outputs": [],
   "source": [
    "from skimage import color\n",
    "def hsv2lab(h, s, v):\n",
    "    h = h / 360\n",
    "    s = s / 100\n",
    "    v = v / 100\n",
    "    rgb = color.hsv2rgb([h, s, v])\n",
    "    return color.rgb2lab(rgb)\n",
    "\n",
    "def hsv2rgb(h, s, v):\n",
    "    h = h / 360\n",
    "    s = s / 100\n",
    "    v = v / 100\n",
    "    return color.hsv2rgb([h, s, v])"
   ]
  },
  {
   "cell_type": "code",
   "execution_count": null,
   "metadata": {},
   "outputs": [],
   "source": []
  },
  {
   "cell_type": "code",
   "execution_count": 32,
   "metadata": {},
   "outputs": [],
   "source": [
    "def transform_data(scene, fname):\n",
    "    new_scene = {\n",
    "        \"image_index\": int(fname.split('_')[2].split('.')[0]),\n",
    "        \"image_filename\": (fname.rsplit('.', 1)[0] + '.png').lower(),\n",
    "    }\n",
    "    new_objects = []\n",
    "    for object in scene[\"objects\"]:\n",
    "        new_object ={}\n",
    "        \n",
    "        new_object[\"attributes\"] = object\n",
    "        new_object[\"description\"] = {}\n",
    "\n",
    "        tmp1 = new_object[\"attributes\"][\"color-mean\"]\n",
    "        tmp1 = hsv2lab(tmp1[0], tmp1[1], tmp1[2])\n",
    "        tmp1rgb = hsv2rgb(tmp1[0], tmp1[1], tmp1[2])\n",
    "\n",
    "        tmp2 = new_object[\"attributes\"][\"color-std\"]\n",
    "        tmp2 = hsv2lab(tmp2[0], tmp2[1], tmp2[2])\n",
    "        tmp2rgb = hsv2rgb(tmp2[0], tmp2[1], tmp2[2])\n",
    "\n",
    "        del new_object[\"attributes\"][\"color-mean\"]\n",
    "        del new_object[\"attributes\"][\"color-std\"]\n",
    " \n",
    "        new_object[\"attributes\"][\"color-mean-lab-l\"] = tmp1[0]\n",
    "        new_object[\"attributes\"][\"color-mean-lab-a\"] = tmp1[1]\n",
    "        new_object[\"attributes\"][\"color-mean-lab-b\"] = tmp1[2]\n",
    "\n",
    "        new_object[\"attributes\"][\"color-std-lab-l\"] = tmp2[0]\n",
    "        new_object[\"attributes\"][\"color-std-lab-a\"] = tmp2[1]\n",
    "        new_object[\"attributes\"][\"color-std-lab-b\"] = tmp2[2]\n",
    "\n",
    "        new_object[\"attributes\"][\"color-mean-rgb-r\"] = tmp1rgb[0]\n",
    "        new_object[\"attributes\"][\"color-mean-rgb-g\"] = tmp1rgb[0]\n",
    "        new_object[\"attributes\"][\"color-mean-rgb-b\"] = tmp1rgb[0]\n",
    "\n",
    "        new_object[\"attributes\"][\"color-std-rgb-r\"] = tmp2rgb[0]\n",
    "        new_object[\"attributes\"][\"color-std-rgb-g\"] = tmp2rgb[0]\n",
    "        new_object[\"attributes\"][\"color-std-rgb-b\"] = tmp2rgb[0]\n",
    "\n",
    "        new_object[\"attributes\"][\"angle\"] = -new_object[\"attributes\"][\"angle\"]\n",
    "\n",
    "        for key, val in new_object[\"attributes\"].items():\n",
    "            norm_val = normalise_val(key, val)\n",
    "            new_object[\"attributes\"][key] = round(norm_val, 5)\n",
    "            \n",
    "\n",
    "        new_objects.append(new_object)\n",
    "    new_scene[\"objects\"] = new_objects\n",
    "    return new_scene"
   ]
  },
  {
   "cell_type": "code",
   "execution_count": 33,
   "metadata": {},
   "outputs": [],
   "source": [
    "base_dir = os.path.join(os.getenv('HOME'), \"Corpora/clevr-extracted-colors/scenes/\")\n",
    "input_dir = os.path.join(base_dir, \"val\")\n",
    "output_dir = os.path.join(base_dir, \"t-val\")\n",
    "os.makedirs(output_dir, exist_ok=True)\n",
    "\n",
    "for root, dirs, files in os.walk(input_dir):\n",
    "    for fname in files:\n",
    "        # if fname is not .DS_Store\n",
    "        if (not fname.startswith('.')):\n",
    "            with open(os.path.join(root, fname)) as f:\n",
    "                scene = json.load(f)\n",
    "                scene = transform_data(scene, fname)\n",
    "                \n",
    "            with open(os.path.join(output_dir, fname.replace(\"CLEVR\", \"clevr\")), \"w\") as f:\n",
    "                json.dump(scene, f)\n",
    "    "
   ]
  },
  {
   "cell_type": "code",
   "execution_count": null,
   "metadata": {},
   "outputs": [],
   "source": []
  }
 ],
 "metadata": {
  "kernelspec": {
   "display_name": "evolution-of-concepts",
   "language": "python",
   "name": "python3"
  },
  "language_info": {
   "codemirror_mode": {
    "name": "ipython",
    "version": 3
   },
   "file_extension": ".py",
   "mimetype": "text/x-python",
   "name": "python",
   "nbconvert_exporter": "python",
   "pygments_lexer": "ipython3",
   "version": "3.11.3"
  },
  "orig_nbformat": 4
 },
 "nbformat": 4,
 "nbformat_minor": 2
}
