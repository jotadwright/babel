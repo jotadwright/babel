{
 "cells": [
  {
   "cell_type": "code",
   "execution_count": 1,
   "metadata": {},
   "outputs": [],
   "source": [
    "import json\n",
    "import os\n",
    "from pprint import pprint\n",
    "\n",
    "import numpy as np\n",
    "import pandas as pd\n",
    "import scipy.stats as stats"
   ]
  },
  {
   "cell_type": "code",
   "execution_count": 16,
   "metadata": {},
   "outputs": [],
   "source": [
    "def find_closest_object(ext_obj, sim_objs):\n",
    "        ext_xpos = ext_obj[\"attributes\"]['xpos']\n",
    "        ext_ypos = ext_obj[\"attributes\"]['ypos']\n",
    "        ext_pos = np.array([ext_xpos, ext_ypos])\n",
    "        sim_pos = np.array([[obj[\"attributes\"]['xpos'], obj[\"attributes\"]['ypos']] for obj in sim_objs])\n",
    "        dists = np.linalg.norm(sim_pos - ext_pos, axis=1)\n",
    "        closest_idx = np.argmin(dists)\n",
    "        return sim_objs[closest_idx]\n",
    "\n",
    "def transform_data(scene_sim, scene_ext):\n",
    "    sim_objects = scene_sim['objects']\n",
    "    ext_objects = scene_ext['objects']\n",
    "\n",
    "    for obj in ext_objects:\n",
    "        closest_obj = find_closest_object(obj, sim_objects)\n",
    "        obj[\"description\"] = closest_obj[\"description\"]\n",
    "    \n",
    "    scene_ext[\"objects\"] = ext_objects\n",
    "    return scene_ext"
   ]
  },
  {
   "cell_type": "code",
   "execution_count": 19,
   "metadata": {},
   "outputs": [],
   "source": [
    "base_dir_sim = os.path.join(os.getenv('HOME'), \"Corpora/cogentb-simulated/scenes/val\") # to change!!!\n",
    "base_dir_ext = os.path.join(os.getenv('HOME'), \"Corpora/cogentb-extracted/scenes/val\") # to change!!!\n",
    "\n",
    "\n",
    "for root, dirs, files in os.walk(base_dir_sim):\n",
    "    for fname in files:\n",
    "        with open(os.path.join(root, fname)) as f:\n",
    "            scene_sim = json.load(f)\n",
    "\n",
    "        with open(os.path.join(base_dir_ext, fname)) as f:\n",
    "            scene_ext = json.load(f)\n",
    "            scene_ext = transform_data(scene_sim, scene_ext)\n",
    "\n",
    "        with open(os.path.join(base_dir_ext, fname), \"w\") as f:\n",
    "            json.dump(scene_ext, f)\n",
    "        "
   ]
  }
 ],
 "metadata": {
  "kernelspec": {
   "display_name": "winery-dataset-gen",
   "language": "python",
   "name": "python3"
  },
  "language_info": {
   "codemirror_mode": {
    "name": "ipython",
    "version": 3
   },
   "file_extension": ".py",
   "mimetype": "text/x-python",
   "name": "python",
   "nbconvert_exporter": "python",
   "pygments_lexer": "ipython3",
   "version": "3.11.3"
  },
  "orig_nbformat": 4
 },
 "nbformat": 4,
 "nbformat_minor": 2
}
