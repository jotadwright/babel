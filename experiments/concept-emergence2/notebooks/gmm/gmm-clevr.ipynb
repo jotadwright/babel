{
 "cells": [
  {
   "cell_type": "code",
   "execution_count": null,
   "metadata": {},
   "outputs": [],
   "source": [
    "import os\n",
    "import json\n",
    "import random\n",
    "import numpy as np\n",
    "\n",
    "import random\n",
    "from scipy.stats import chi2\n",
    "import matplotlib.pyplot as plt"
   ]
  },
  {
   "cell_type": "code",
   "execution_count": null,
   "metadata": {},
   "outputs": [],
   "source": [
    "exp_dir = \"/Users/jerome/Projects/babel/experiments/concept-emergence2/corpora/concept-emergence2/clevr/scenes/train\""
   ]
  },
  {
   "cell_type": "code",
   "execution_count": null,
   "metadata": {},
   "outputs": [],
   "source": [
    "# find all scenes\n",
    "scenes = []\n",
    "for file in sorted(os.listdir(exp_dir)):\n",
    "    if file.endswith(\".json\"):\n",
    "        fpath = os.path.join(exp_dir, file)\n",
    "        with open(fpath) as f:\n",
    "            scene = json.load(f)\n",
    "            scenes.append(scene)"
   ]
  },
  {
   "cell_type": "code",
   "execution_count": null,
   "metadata": {},
   "outputs": [],
   "source": [
    "def to_fv(obj):\n",
    "    \"Create feature vector given an cle2 json object.\"\n",
    "    fv = []\n",
    "    for key in sorted(obj[\"attributes\"]):\n",
    "        fv.append(obj[\"attributes\"][key])\n",
    "    return fv"
   ]
  },
  {
   "cell_type": "code",
   "execution_count": null,
   "metadata": {},
   "outputs": [],
   "source": [
    "objs = scenes[0][\"objects\"]\n",
    "objs = [to_fv(obj) for obj in objs]\n",
    "\n",
    "topic = random.choice(objs)\n",
    "distractors = [obj for obj in objs if obj != topic]"
   ]
  }
 ],
 "metadata": {
  "kernelspec": {
   "display_name": "wetrek",
   "language": "python",
   "name": "python3"
  },
  "language_info": {
   "codemirror_mode": {
    "name": "ipython",
    "version": 3
   },
   "file_extension": ".py",
   "mimetype": "text/x-python",
   "name": "python",
   "nbconvert_exporter": "python",
   "pygments_lexer": "ipython3",
   "version": "3.10.9"
  }
 },
 "nbformat": 4,
 "nbformat_minor": 2
}
