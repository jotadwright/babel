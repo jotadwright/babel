{
 "cells": [
  {
   "cell_type": "code",
   "execution_count": null,
   "metadata": {},
   "outputs": [],
   "source": [
    "import numpy as np"
   ]
  },
  {
   "cell_type": "code",
   "execution_count": null,
   "metadata": {},
   "outputs": [],
   "source": [
    "%run experiments/concept-emergence2/notebooks/gmm/generate_data.py\n",
    "%run experiments/concept-emergence2/notebooks/gmm/plot_data.py\n",
    "%run experiments/concept-emergence2/notebooks/gmm/igmn.py"
   ]
  },
  {
   "cell_type": "code",
   "execution_count": null,
   "metadata": {},
   "outputs": [],
   "source": [
    "def predict(igmn, n_samples, min, max):\n",
    "    x = np.linspace(min, max, n_samples)\n",
    "    y = [igmn.likelihood([x_i]) for x_i in x]\n",
    "    return x.reshape((-1,)), y"
   ]
  },
  {
   "cell_type": "code",
   "execution_count": null,
   "metadata": {},
   "outputs": [],
   "source": [
    "# # TODO: the scale matters a lot, if the scale is too small (between 0 and 1, the predictions do not make sense)\n",
    "# X, Y = gen_data(k=3, dim=2, points_per_cluster=100, lim=[0, 100], spread=[1, 5])\n",
    "# # shuffle X and Y (but keep the correspondence)\n",
    "# X, Y = shuffle_data(X, Y)\n",
    "# # plot the data\n",
    "# plot_data(X, y=Y)"
   ]
  },
  {
   "cell_type": "code",
   "execution_count": null,
   "metadata": {},
   "outputs": [],
   "source": [
    "# TODO: the scale matters a lot, if the scale is too small (between 0 and 1, the predictions do not make sense)\n",
    "X, Y = gen_data(k=3, dim=1, points_per_cluster=100, lim=[0, 100], spread=[1, 5])\n",
    "# shuffle X and Y (but keep the correspondence)\n",
    "X, Y = shuffle_data(X, Y)\n",
    "# plot the data\n",
    "plot_data(X, y=Y)"
   ]
  },
  {
   "cell_type": "code",
   "execution_count": null,
   "metadata": {},
   "outputs": [],
   "source": [
    "parameters = {'beta': 0.1, 'all_adults_criterion': True, 'age_min': 10, 'acc_min': 9, 'max_components': 20}\n",
    "\n",
    "# igmn = IGMN(input_dim=1, beta=0.1, all_adults_criterion=False, age_min=5.0, acc_min=3.0, max_components=20, rank_type = \"diag\", closest_n=20\n",
    "igmn = IGMN(input_dim=2, **parameters, rank_type = \"diag\", closest_n=20)\n",
    "num_epochs = 1\n",
    "for epoch in range(num_epochs):\n",
    "    igmn.fit(X)\n",
    "\n",
    "log_probs = igmn.score_samples(X)\n",
    "score = np.exp(log_probs).sum()\n",
    "\n",
    "\n",
    "#print(\"Number of components: \", len(igmn.components))\n",
    "#print(\"Components centered at: \", [comp['mu'].item() for comp in igmn.components])\n",
    "#print(\"Training fit: \", score)\n",
    "#x_min, x_max = min(X)-1, max(X)+1\n",
    "# n_samples = 10000\n",
    "# x, y = predict(igmn, n_samples, x_min, x_max)\n",
    "\n",
    "#print(\"IGMN has \", len(igmn.components), \" components\")\n",
    "#print(\"GMM integral: \", scipy.integrate.simpson(y, x), \" or \", scipy.integrate.quad(lambda x: igmn.likelihood(x), -50, 150))\n",
    "#plot_gmm(X, Y, x_min, x_max, x, y)"
   ]
  },
  {
   "cell_type": "code",
   "execution_count": null,
   "metadata": {},
   "outputs": [],
   "source": [
    "import optuna\n",
    "\n",
    "def objective(trial):\n",
    "    beta = trial.suggest_float('beta', 0.0000000001, 0.1)\n",
    "    all_adults_criterion = trial.suggest_categorical('all_adults_criterion', [True, False])\n",
    "    age_min = trial.suggest_int('age_min', 2.0, 10.0)\n",
    "    acc_min = trial.suggest_int('acc_min', 2.0, 10.0)\n",
    "    max_components = trial.suggest_int('max_components', 1, 30)\n",
    "    igmn = IGMN(input_dim=2, beta=beta, all_adults_criterion=all_adults_criterion, age_min=age_min, acc_min=acc_min, max_components=max_components, rank_type = \"diag\", closest_n=20)\n",
    "    num_epochs = 1\n",
    "    for _ in range(num_epochs):\n",
    "        igmn.fit(X)\n",
    "    # x, y = predict(igmn, n_samples, x_min, x_max)\n",
    "    log_probs = igmn.score_samples(X)\n",
    "    score = np.exp(log_probs).sum()\n",
    "    return score\n",
    "    "
   ]
  },
  {
   "cell_type": "code",
   "execution_count": null,
   "metadata": {},
   "outputs": [],
   "source": [
    "study = optuna.create_study(direction=\"maximize\")\n",
    "study.optimize(objective, n_trials=100)  # number of iterations"
   ]
  },
  {
   "cell_type": "code",
   "execution_count": null,
   "metadata": {},
   "outputs": [],
   "source": [
    "study.best_params\n"
   ]
  },
  {
   "cell_type": "markdown",
   "metadata": {},
   "source": [
    "### GMM"
   ]
  },
  {
   "cell_type": "code",
   "execution_count": null,
   "metadata": {},
   "outputs": [],
   "source": [
    "from sklearn.mixture import GaussianMixture\n",
    "\n",
    "def predict2(gmm, n_samples, x_min, x_max):\n",
    "    x = np.linspace(x_min, x_max, n_samples)\n",
    "    y = [np.exp(gmm.score_samples([x_i])) for x_i in x]\n",
    "    return x, y"
   ]
  },
  {
   "cell_type": "code",
   "execution_count": null,
   "metadata": {},
   "outputs": [],
   "source": [
    "gmm = GaussianMixture(n_components=20, covariance_type=\"diag\")\n",
    "gmm.fit(X);"
   ]
  },
  {
   "cell_type": "code",
   "execution_count": null,
   "metadata": {},
   "outputs": [],
   "source": [
    "log_probs = gmm.score_samples(X)\n",
    "log_probs"
   ]
  },
  {
   "cell_type": "code",
   "execution_count": null,
   "metadata": {},
   "outputs": [],
   "source": [
    "np.exp(log_probs)"
   ]
  },
  {
   "cell_type": "code",
   "execution_count": null,
   "metadata": {},
   "outputs": [],
   "source": [
    "print(np.exp(log_probs).sum())\n",
    "print(np.exp(log_probs).sum())\n",
    "print(sum(np.exp(gmm.score_samples([x_i])) for x_i in X))"
   ]
  },
  {
   "cell_type": "code",
   "execution_count": null,
   "metadata": {},
   "outputs": [],
   "source": [
    "x, y = predict2(gmm, n_samples, x_min, x_max)\n",
    "\n",
    "plot_gmm(X, Y, x_min, x_max, x, y)"
   ]
  },
  {
   "cell_type": "code",
   "execution_count": null,
   "metadata": {},
   "outputs": [],
   "source": [
    "y"
   ]
  }
 ],
 "metadata": {
  "kernelspec": {
   "display_name": "wetrek",
   "language": "python",
   "name": "python3"
  },
  "language_info": {
   "codemirror_mode": {
    "name": "ipython",
    "version": 3
   },
   "file_extension": ".py",
   "mimetype": "text/x-python",
   "name": "python",
   "nbconvert_exporter": "python",
   "pygments_lexer": "ipython3",
   "version": "3.1.-1"
  }
 },
 "nbformat": 4,
 "nbformat_minor": 2
}
