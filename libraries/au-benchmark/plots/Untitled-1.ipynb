{
 "cells": [
  {
   "cell_type": "code",
   "execution_count": 1,
   "metadata": {},
   "outputs": [],
   "source": [
    "import pandas as pd\n",
    "import seaborn as sns\n",
    "import matplotlib.pyplot as plt\n",
    "import os\n",
    "from glob import glob"
   ]
  },
  {
   "cell_type": "code",
   "execution_count": 35,
   "metadata": {},
   "outputs": [],
   "source": [
    "data = pd.read_pickle('./../results/kswap-replication/class-4-df.pickle')\n",
    "data = data[data['algorithm'] == \"exhaustive_msg\"]"
   ]
  },
  {
   "cell_type": "code",
   "execution_count": 36,
   "metadata": {},
   "outputs": [
    {
     "data": {
      "text/html": [
       "<div>\n",
       "<style scoped>\n",
       "    .dataframe tbody tr th:only-of-type {\n",
       "        vertical-align: middle;\n",
       "    }\n",
       "\n",
       "    .dataframe tbody tr th {\n",
       "        vertical-align: top;\n",
       "    }\n",
       "\n",
       "    .dataframe thead th {\n",
       "        text-align: right;\n",
       "    }\n",
       "</style>\n",
       "<table border=\"1\" class=\"dataframe\">\n",
       "  <thead>\n",
       "    <tr style=\"text-align: right;\">\n",
       "      <th></th>\n",
       "      <th>algorithm</th>\n",
       "      <th>cost</th>\n",
       "      <th>real_time</th>\n",
       "      <th>run_time</th>\n",
       "      <th>gen_size</th>\n",
       "      <th>phi_size</th>\n",
       "      <th>G1_length</th>\n",
       "      <th>G2_length</th>\n",
       "      <th>G1_variables</th>\n",
       "      <th>G2_variables</th>\n",
       "      <th>var_coeff</th>\n",
       "      <th>atom_coeff</th>\n",
       "      <th>class</th>\n",
       "      <th>k</th>\n",
       "      <th>W</th>\n",
       "      <th>V</th>\n",
       "      <th>scope</th>\n",
       "    </tr>\n",
       "  </thead>\n",
       "  <tbody>\n",
       "    <tr>\n",
       "      <th>3</th>\n",
       "      <td>exhaustive_msg</td>\n",
       "      <td>-1</td>\n",
       "      <td>-1.0</td>\n",
       "      <td>-1.0</td>\n",
       "      <td>-1</td>\n",
       "      <td>-1</td>\n",
       "      <td>17</td>\n",
       "      <td>14</td>\n",
       "      <td>10</td>\n",
       "      <td>9</td>\n",
       "      <td>3628800</td>\n",
       "      <td>9072000</td>\n",
       "      <td>4</td>\n",
       "      <td>NIL</td>\n",
       "      <td>NIL</td>\n",
       "      <td>NIL</td>\n",
       "      <td>global</td>\n",
       "    </tr>\n",
       "    <tr>\n",
       "      <th>7</th>\n",
       "      <td>exhaustive_msg</td>\n",
       "      <td>-1</td>\n",
       "      <td>-1.0</td>\n",
       "      <td>-1.0</td>\n",
       "      <td>-1</td>\n",
       "      <td>-1</td>\n",
       "      <td>18</td>\n",
       "      <td>13</td>\n",
       "      <td>10</td>\n",
       "      <td>9</td>\n",
       "      <td>3628800</td>\n",
       "      <td>16934400</td>\n",
       "      <td>4</td>\n",
       "      <td>NIL</td>\n",
       "      <td>NIL</td>\n",
       "      <td>NIL</td>\n",
       "      <td>global</td>\n",
       "    </tr>\n",
       "    <tr>\n",
       "      <th>11</th>\n",
       "      <td>exhaustive_msg</td>\n",
       "      <td>-1</td>\n",
       "      <td>-1.0</td>\n",
       "      <td>-1.0</td>\n",
       "      <td>-1</td>\n",
       "      <td>-1</td>\n",
       "      <td>14</td>\n",
       "      <td>16</td>\n",
       "      <td>10</td>\n",
       "      <td>10</td>\n",
       "      <td>3628800</td>\n",
       "      <td>16934400</td>\n",
       "      <td>4</td>\n",
       "      <td>NIL</td>\n",
       "      <td>NIL</td>\n",
       "      <td>NIL</td>\n",
       "      <td>global</td>\n",
       "    </tr>\n",
       "    <tr>\n",
       "      <th>15</th>\n",
       "      <td>exhaustive_msg</td>\n",
       "      <td>-1</td>\n",
       "      <td>-1.0</td>\n",
       "      <td>-1.0</td>\n",
       "      <td>-1</td>\n",
       "      <td>-1</td>\n",
       "      <td>15</td>\n",
       "      <td>16</td>\n",
       "      <td>10</td>\n",
       "      <td>10</td>\n",
       "      <td>3628800</td>\n",
       "      <td>14515200</td>\n",
       "      <td>4</td>\n",
       "      <td>NIL</td>\n",
       "      <td>NIL</td>\n",
       "      <td>NIL</td>\n",
       "      <td>global</td>\n",
       "    </tr>\n",
       "    <tr>\n",
       "      <th>19</th>\n",
       "      <td>exhaustive_msg</td>\n",
       "      <td>-1</td>\n",
       "      <td>-1.0</td>\n",
       "      <td>-1.0</td>\n",
       "      <td>-1</td>\n",
       "      <td>-1</td>\n",
       "      <td>18</td>\n",
       "      <td>17</td>\n",
       "      <td>10</td>\n",
       "      <td>10</td>\n",
       "      <td>3628800</td>\n",
       "      <td>10368000</td>\n",
       "      <td>4</td>\n",
       "      <td>NIL</td>\n",
       "      <td>NIL</td>\n",
       "      <td>NIL</td>\n",
       "      <td>global</td>\n",
       "    </tr>\n",
       "  </tbody>\n",
       "</table>\n",
       "</div>"
      ],
      "text/plain": [
       "         algorithm  cost  real_time  run_time  gen_size  phi_size  G1_length  \\\n",
       "3   exhaustive_msg    -1       -1.0      -1.0        -1        -1         17   \n",
       "7   exhaustive_msg    -1       -1.0      -1.0        -1        -1         18   \n",
       "11  exhaustive_msg    -1       -1.0      -1.0        -1        -1         14   \n",
       "15  exhaustive_msg    -1       -1.0      -1.0        -1        -1         15   \n",
       "19  exhaustive_msg    -1       -1.0      -1.0        -1        -1         18   \n",
       "\n",
       "    G2_length  G1_variables  G2_variables  var_coeff  atom_coeff  class    k  \\\n",
       "3          14            10             9    3628800     9072000      4  NIL   \n",
       "7          13            10             9    3628800    16934400      4  NIL   \n",
       "11         16            10            10    3628800    16934400      4  NIL   \n",
       "15         16            10            10    3628800    14515200      4  NIL   \n",
       "19         17            10            10    3628800    10368000      4  NIL   \n",
       "\n",
       "      W    V   scope  \n",
       "3   NIL  NIL  global  \n",
       "7   NIL  NIL  global  \n",
       "11  NIL  NIL  global  \n",
       "15  NIL  NIL  global  \n",
       "19  NIL  NIL  global  "
      ]
     },
     "execution_count": 36,
     "metadata": {},
     "output_type": "execute_result"
    }
   ],
   "source": [
    "data.head()"
   ]
  },
  {
   "cell_type": "code",
   "execution_count": 37,
   "metadata": {},
   "outputs": [],
   "source": [
    "file = './../results/1-swap-benchmark/results-class-4-KSWAP_MSG_OMEGA-k-NIL-w-NIL-v-NIL-scope-global.csv'\n",
    "\n",
    "column_names = [\"cost\", \"real_time\", \"run_time\", \"gen_size\", \"phi_size\",\n",
    "                \"G1_length\", \"G2_length\", \"G1_variables\", \"G2_variables\", \"var_coeff\", \"atom_coeff\",\n",
    "                \"class\", \"k\", \"W\", \"V\", \"scope\"]\n",
    "\n",
    "kswap_df = pd.read_csv(file, names=column_names)"
   ]
  },
  {
   "cell_type": "code",
   "execution_count": 38,
   "metadata": {},
   "outputs": [
    {
     "data": {
      "text/html": [
       "<div>\n",
       "<style scoped>\n",
       "    .dataframe tbody tr th:only-of-type {\n",
       "        vertical-align: middle;\n",
       "    }\n",
       "\n",
       "    .dataframe tbody tr th {\n",
       "        vertical-align: top;\n",
       "    }\n",
       "\n",
       "    .dataframe thead th {\n",
       "        text-align: right;\n",
       "    }\n",
       "</style>\n",
       "<table border=\"1\" class=\"dataframe\">\n",
       "  <thead>\n",
       "    <tr style=\"text-align: right;\">\n",
       "      <th></th>\n",
       "      <th>cost</th>\n",
       "      <th>real_time</th>\n",
       "      <th>run_time</th>\n",
       "      <th>gen_size</th>\n",
       "      <th>phi_size</th>\n",
       "      <th>G1_length</th>\n",
       "      <th>G2_length</th>\n",
       "      <th>G1_variables</th>\n",
       "      <th>G2_variables</th>\n",
       "      <th>var_coeff</th>\n",
       "      <th>atom_coeff</th>\n",
       "      <th>class</th>\n",
       "      <th>k</th>\n",
       "      <th>W</th>\n",
       "      <th>V</th>\n",
       "      <th>scope</th>\n",
       "    </tr>\n",
       "  </thead>\n",
       "  <tbody>\n",
       "    <tr>\n",
       "      <th>0</th>\n",
       "      <td>88</td>\n",
       "      <td>18.000</td>\n",
       "      <td>17.910</td>\n",
       "      <td>80</td>\n",
       "      <td>13</td>\n",
       "      <td>17</td>\n",
       "      <td>14</td>\n",
       "      <td>10</td>\n",
       "      <td>9</td>\n",
       "      <td>3628800</td>\n",
       "      <td>9072000</td>\n",
       "      <td>4</td>\n",
       "      <td>NIL</td>\n",
       "      <td>NIL</td>\n",
       "      <td>NIL</td>\n",
       "      <td>global</td>\n",
       "    </tr>\n",
       "    <tr>\n",
       "      <th>1</th>\n",
       "      <td>88</td>\n",
       "      <td>9.000</td>\n",
       "      <td>8.699</td>\n",
       "      <td>80</td>\n",
       "      <td>12</td>\n",
       "      <td>18</td>\n",
       "      <td>13</td>\n",
       "      <td>10</td>\n",
       "      <td>9</td>\n",
       "      <td>3628800</td>\n",
       "      <td>16934400</td>\n",
       "      <td>4</td>\n",
       "      <td>NIL</td>\n",
       "      <td>NIL</td>\n",
       "      <td>NIL</td>\n",
       "      <td>global</td>\n",
       "    </tr>\n",
       "    <tr>\n",
       "      <th>2</th>\n",
       "      <td>59</td>\n",
       "      <td>8.001</td>\n",
       "      <td>7.713</td>\n",
       "      <td>81</td>\n",
       "      <td>11</td>\n",
       "      <td>14</td>\n",
       "      <td>16</td>\n",
       "      <td>10</td>\n",
       "      <td>10</td>\n",
       "      <td>3628800</td>\n",
       "      <td>16934400</td>\n",
       "      <td>4</td>\n",
       "      <td>NIL</td>\n",
       "      <td>NIL</td>\n",
       "      <td>NIL</td>\n",
       "      <td>global</td>\n",
       "    </tr>\n",
       "    <tr>\n",
       "      <th>3</th>\n",
       "      <td>88</td>\n",
       "      <td>12.000</td>\n",
       "      <td>12.018</td>\n",
       "      <td>88</td>\n",
       "      <td>14</td>\n",
       "      <td>15</td>\n",
       "      <td>16</td>\n",
       "      <td>10</td>\n",
       "      <td>10</td>\n",
       "      <td>3628800</td>\n",
       "      <td>14515200</td>\n",
       "      <td>4</td>\n",
       "      <td>NIL</td>\n",
       "      <td>NIL</td>\n",
       "      <td>NIL</td>\n",
       "      <td>global</td>\n",
       "    </tr>\n",
       "    <tr>\n",
       "      <th>4</th>\n",
       "      <td>96</td>\n",
       "      <td>16.001</td>\n",
       "      <td>16.448</td>\n",
       "      <td>106</td>\n",
       "      <td>17</td>\n",
       "      <td>18</td>\n",
       "      <td>17</td>\n",
       "      <td>10</td>\n",
       "      <td>10</td>\n",
       "      <td>3628800</td>\n",
       "      <td>10368000</td>\n",
       "      <td>4</td>\n",
       "      <td>NIL</td>\n",
       "      <td>NIL</td>\n",
       "      <td>NIL</td>\n",
       "      <td>global</td>\n",
       "    </tr>\n",
       "  </tbody>\n",
       "</table>\n",
       "</div>"
      ],
      "text/plain": [
       "   cost  real_time  run_time  gen_size  phi_size  G1_length  G2_length  \\\n",
       "0    88     18.000    17.910        80        13         17         14   \n",
       "1    88      9.000     8.699        80        12         18         13   \n",
       "2    59      8.001     7.713        81        11         14         16   \n",
       "3    88     12.000    12.018        88        14         15         16   \n",
       "4    96     16.001    16.448       106        17         18         17   \n",
       "\n",
       "   G1_variables  G2_variables  var_coeff  atom_coeff  class    k    W    V  \\\n",
       "0            10             9    3628800     9072000      4  NIL  NIL  NIL   \n",
       "1            10             9    3628800    16934400      4  NIL  NIL  NIL   \n",
       "2            10            10    3628800    16934400      4  NIL  NIL  NIL   \n",
       "3            10            10    3628800    14515200      4  NIL  NIL  NIL   \n",
       "4            10            10    3628800    10368000      4  NIL  NIL  NIL   \n",
       "\n",
       "    scope  \n",
       "0  global  \n",
       "1  global  \n",
       "2  global  \n",
       "3  global  \n",
       "4  global  "
      ]
     },
     "execution_count": 38,
     "metadata": {},
     "output_type": "execute_result"
    }
   ],
   "source": [
    "kswap_df.head()"
   ]
  },
  {
   "cell_type": "code",
   "execution_count": 39,
   "metadata": {},
   "outputs": [],
   "source": [
    "solutions_found_data = {\n",
    "    'exhaustive': (len(data[data['cost'] > -1])/len(data))*100,\n",
    "    '1-swap': (len(kswap_df[kswap_df['cost'] > -1])/len(kswap_df))*100,\n",
    "}"
   ]
  },
  {
   "cell_type": "code",
   "execution_count": 40,
   "metadata": {},
   "outputs": [
    {
     "data": {
      "image/png": "[encoded data removed]",
      "text/plain": [
       "<Figure size 1152x648 with 1 Axes>"
      ]
     },
     "metadata": {},
     "output_type": "display_data"
    }
   ],
   "source": [
    "fig, ax = plt.subplots(figsize=(16,9))\n",
    "sns.set_theme(style='whitegrid')\n",
    "ax = sns.barplot(x=list(solutions_found_data.keys()), y=list(solutions_found_data.values()))\n",
    "ax.set_title('Percentage of solutions found within timeout (60s)')\n",
    "plt.savefig('class-4-percentage-solutions.pdf', bbox_inches='tight')"
   ]
  },
  {
   "cell_type": "code",
   "execution_count": 6,
   "metadata": {},
   "outputs": [],
   "source": [
    "cost_data = {\n",
    "    'exhaustive': data[data['cost'] > -1]['cost'],\n",
    "    '1-swap': kswap_df[kswap_df['cost'] > -1]['cost'],\n",
    "}\n",
    "cost_df = pd.concat(cost_data, axis = 1)"
   ]
  },
  {
   "cell_type": "code",
   "execution_count": 8,
   "metadata": {},
   "outputs": [
    {
     "data": {
      "text/plain": [
       "Text(0.5, 1.0, '1-Swap - Class 4')"
      ]
     },
     "execution_count": 8,
     "metadata": {},
     "output_type": "execute_result"
    },
    {
     "data": {
      "image/png": "[encoded data removed]",
      "text/plain": [
       "<Figure size 1152x648 with 1 Axes>"
      ]
     },
     "metadata": {},
     "output_type": "display_data"
    }
   ],
   "source": [
    "fig, ax = plt.subplots(figsize=(16,9))\n",
    "sns.set_theme(style='whitegrid')\n",
    "ax = sns.violinplot(data=cost_df, cut=0, orient='h')\n",
    "ax.set_xlim(0)\n",
    "ax.set_xlabel('Cost')\n",
    "ax.set_title('1-Swap - Class 4')\n",
    "# plt.savefig('class-4-cost.pdf', bbox_inches='tight')"
   ]
  },
  {
   "cell_type": "code",
   "execution_count": 14,
   "metadata": {},
   "outputs": [],
   "source": [
    "def percentage_increase(orig_value, new_value):\n",
    "    if orig_value > -1 and new_value > -1:\n",
    "        difference = new_value - orig_value\n",
    "        increase = difference / orig_value\n",
    "        percentage = increase * 100\n",
    "        return percentage"
   ]
  },
  {
   "cell_type": "code",
   "execution_count": 33,
   "metadata": {},
   "outputs": [],
   "source": [
    "new_rows = []\n",
    "for i in range(1000):\n",
    "    exhaustive_row = data.iloc[i]\n",
    "    kswap_row = kswap_df.iloc[i]\n",
    "    relative_cost = percentage_increase(exhaustive_row['cost'], kswap_row['cost'])\n",
    "    new_rows.append({'relative cost': relative_cost})\n",
    "\n",
    "relative_df = pd.DataFrame(new_rows, columns=['relative cost'])"
   ]
  },
  {
   "cell_type": "code",
   "execution_count": 34,
   "metadata": {},
   "outputs": [
    {
     "data": {
      "image/png": "[encoded data removed]",
      "text/plain": [
       "<Figure size 1152x648 with 1 Axes>"
      ]
     },
     "metadata": {},
     "output_type": "display_data"
    }
   ],
   "source": [
    "num_solutions_data = {\n",
    "    'optimal': (len(relative_df[relative_df['relative cost'] == 0])/len(relative_df))*100,\n",
    "    'suboptimal': (len(relative_df[relative_df['relative cost'] > 0])/len(relative_df))*100,\n",
    "}\n",
    "\n",
    "fig, ax = plt.subplots(figsize=(16,9))\n",
    "sns.set_theme(style='whitegrid')\n",
    "ax = sns.barplot(x=list(num_solutions_data.keys()), y=list(num_solutions_data.values()))\n",
    "ax.set_title('Percentages of optimal solutions (1-swap)')\n",
    "# ax.set_ylim(900, 1025)\n",
    "plt.savefig('class-3-optimal-solutions.pdf', bbox_inches='tight')"
   ]
  },
  {
   "cell_type": "code",
   "execution_count": 104,
   "metadata": {},
   "outputs": [
    {
     "data": {
      "image/png": "[encoded data removed]",
      "text/plain": [
       "<Figure size 1152x648 with 1 Axes>"
      ]
     },
     "metadata": {},
     "output_type": "display_data"
    }
   ],
   "source": [
    "fig, ax = plt.subplots(figsize=(16,9))\n",
    "sns.set_theme(style='whitegrid')\n",
    "ax = sns.boxplot(data=relative_df, showfliers=True)\n",
    "# ax.set_title('Relative change in cost')\n",
    "ax.set_ylabel('Percentage')\n",
    "plt.savefig('class-4-relative-cost.pdf', bbox_inches='tight')"
   ]
  },
  {
   "cell_type": "code",
   "execution_count": 84,
   "metadata": {},
   "outputs": [],
   "source": [
    "time_data = {\n",
    "    'exhaustive': data[data['real_time'] > -1]['real_time'],\n",
    "    '1-swap': kswap_df[kswap_df['real_time'] > -1]['real_time'],\n",
    "}\n",
    "time_df = pd.concat(time_data, axis = 1)"
   ]
  },
  {
   "cell_type": "code",
   "execution_count": 85,
   "metadata": {},
   "outputs": [
    {
     "data": {
      "text/plain": [
       "Text(0.5, 0, 'Time (ms)')"
      ]
     },
     "execution_count": 85,
     "metadata": {},
     "output_type": "execute_result"
    },
    {
     "data": {
      "image/png": "[encoded data removed]",
      "text/plain": [
       "<Figure size 1152x648 with 1 Axes>"
      ]
     },
     "metadata": {},
     "output_type": "display_data"
    }
   ],
   "source": [
    "fig, ax = plt.subplots(figsize=(16,9))\n",
    "sns.set_theme(style='whitegrid')\n",
    "ax = sns.violinplot(data=time_df, cut=0, orient='h')\n",
    "ax.set_xlim(0)\n",
    "ax.set_xlabel('Time (ms)')\n",
    "# ax.set_title(f'Class {CLASS} - k=inf - W=1 - V=1')\n",
    "# plt.savefig('cost.pdf', bbox_inches='tight')"
   ]
  },
  {
   "cell_type": "code",
   "execution_count": 87,
   "metadata": {},
   "outputs": [
    {
     "data": {
      "text/plain": [
       "count    1000.000000\n",
       "mean        4.268134\n",
       "std         1.636769\n",
       "min        -1.000000\n",
       "25%         3.000000\n",
       "50%         4.000000\n",
       "75%         5.000000\n",
       "max        17.001000\n",
       "Name: real_time, dtype: float64"
      ]
     },
     "execution_count": 87,
     "metadata": {},
     "output_type": "execute_result"
    }
   ],
   "source": [
    "kswap_df['real_time'].describe()"
   ]
  },
  {
   "cell_type": "code",
   "execution_count": null,
   "metadata": {},
   "outputs": [],
   "source": []
  }
 ],
 "metadata": {
  "kernelspec": {
   "display_name": "seq2seq",
   "language": "python",
   "name": "python3"
  },
  "language_info": {
   "codemirror_mode": {
    "name": "ipython",
    "version": 3
   },
   "file_extension": ".py",
   "mimetype": "text/x-python",
   "name": "python",
   "nbconvert_exporter": "python",
   "pygments_lexer": "ipython3",
   "version": "3.7.8"
  }
 },
 "nbformat": 4,
 "nbformat_minor": 2
}
