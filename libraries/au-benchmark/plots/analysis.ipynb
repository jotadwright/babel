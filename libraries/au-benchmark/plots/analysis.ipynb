{
 "cells": [
  {
   "cell_type": "code",
   "execution_count": 1,
   "metadata": {},
   "outputs": [],
   "source": [
    "import pandas as pd\n",
    "import seaborn as sns\n",
    "import matplotlib.pyplot as plt\n",
    "import os\n",
    "from glob import glob"
   ]
  },
  {
   "cell_type": "code",
   "execution_count": 2,
   "metadata": {},
   "outputs": [],
   "source": [
    "def select_from_data(df, algorithm=None, k=None, W=None, V=None, scope=None):\n",
    "    # Flexible function for selecting rows from the dataframe\n",
    "    d = {}\n",
    "    if algorithm is not None:\n",
    "        d['algorithm'] = algorithm\n",
    "    if k is not None:\n",
    "        d['k'] = k\n",
    "    if W is not None:\n",
    "        d['W'] = W\n",
    "    if V is not None:\n",
    "        d['V'] = V\n",
    "    if scope is not None:\n",
    "        d['scope'] = scope\n",
    "    query = \" & \".join([\"(df['{0}'] == {1})\".format(col, repr(cond)) for col, cond in d.items()])\n",
    "    # print(query)\n",
    "    return df[eval(query)]"
   ]
  },
  {
   "cell_type": "code",
   "execution_count": 90,
   "metadata": {},
   "outputs": [],
   "source": [
    "# Read pickle files\n",
    "CLASS = 6\n",
    "data = pd.read_pickle(f'./../results/grid-search-2/class-{CLASS}-df.pickle')\n",
    "relative_data = pd.read_pickle(f'./../results/grid-search-2/class-{CLASS}-relative-df.pickle')"
   ]
  },
  {
   "cell_type": "markdown",
   "metadata": {},
   "source": [
    "# K-swap\n",
    "\n",
    "Did the benchmark replicate the results of Yernaux and Vanhoof (2019)?\n",
    "\n",
    "They ran experiments for class 1-6, with W and V set to 1, for k set to 0, 2, 4, and inf.\n",
    "\n",
    "They compare k-swap against an exhaustive search in terms of the size of the generalisation (phi)"
   ]
  },
  {
   "cell_type": "code",
   "execution_count": 91,
   "metadata": {},
   "outputs": [],
   "source": [
    "# Select rows with kswap (injective) and exhaustive (injective), with W=V=1, and omega_cope = global\n",
    "kswap_df = select_from_data(data, algorithm='kswap_lcg', W=4, V=4, scope='global')\n",
    "exhaustive_df = select_from_data(data, algorithm='exhaustive_lcg', scope='global')\n",
    "relative_df = select_from_data(relative_data, W=4, V=4, scope='global')"
   ]
  },
  {
   "cell_type": "code",
   "execution_count": 92,
   "metadata": {},
   "outputs": [
    {
     "data": {
      "text/plain": [
       "1000"
      ]
     },
     "execution_count": 92,
     "metadata": {},
     "output_type": "execute_result"
    }
   ],
   "source": [
    "len(exhaustive_df.loc[exhaustive_df['cost'] > -1])"
   ]
  },
  {
   "cell_type": "code",
   "execution_count": 93,
   "metadata": {},
   "outputs": [
    {
     "data": {
      "text/plain": [
       "k\n",
       "0      1000\n",
       "2      1000\n",
       "4      1000\n",
       "NIL     981\n",
       "dtype: int64"
      ]
     },
     "execution_count": 93,
     "metadata": {},
     "output_type": "execute_result"
    }
   ],
   "source": [
    "kswap_df.loc[kswap_df['cost'] > -1].groupby(['k']).size()"
   ]
  },
  {
   "cell_type": "code",
   "execution_count": 94,
   "metadata": {},
   "outputs": [],
   "source": [
    "kswap_df = kswap_df.loc[kswap_df['cost'] > -1]\n",
    "exhaustive_df = exhaustive_df.loc[exhaustive_df['cost'] > -1]\n",
    "\n",
    "df = pd.concat([kswap_df, exhaustive_df])"
   ]
  },
  {
   "cell_type": "code",
   "execution_count": 95,
   "metadata": {},
   "outputs": [
    {
     "name": "stdout",
     "output_type": "stream",
     "text": [
      "k\n",
      "0      71.803214\n",
      "2      89.675105\n",
      "4      96.153056\n",
      "NIL    99.990733\n",
      "Name: exhaustive_lcg_phi_frac, dtype: float64\n",
      "k\n",
      "0      12.316689\n",
      "2       8.459522\n",
      "4       6.055572\n",
      "NIL     0.290250\n",
      "Name: exhaustive_lcg_phi_frac, dtype: float64\n"
     ]
    }
   ],
   "source": [
    "print(relative_df.groupby(['k'])['exhaustive_lcg_phi_frac'].mean())\n",
    "print(relative_df.groupby(['k'])['exhaustive_lcg_phi_frac'].std())"
   ]
  },
  {
   "cell_type": "code",
   "execution_count": 96,
   "metadata": {},
   "outputs": [
    {
     "data": {
      "text/plain": [
       "7447.380955"
      ]
     },
     "execution_count": 96,
     "metadata": {},
     "output_type": "execute_result"
    }
   ],
   "source": [
    "exhaustive_df['real_time'].mean()"
   ]
  },
  {
   "cell_type": "code",
   "execution_count": 97,
   "metadata": {},
   "outputs": [
    {
     "data": {
      "text/plain": [
       "k\n",
       "0          4.280015\n",
       "2          7.019014\n",
       "4         57.479571\n",
       "NIL    25499.848406\n",
       "Name: real_time, dtype: float64"
      ]
     },
     "execution_count": 97,
     "metadata": {},
     "output_type": "execute_result"
    }
   ],
   "source": [
    "kswap_df.groupby(['k'])['real_time'].mean()"
   ]
  },
  {
   "cell_type": "markdown",
   "metadata": {},
   "source": [
    "# K-swap with variable decoupling\n",
    "\n",
    "In our current implementation, the value of `k` should not have an influence on the outcome of the algorithm. Is this the case?"
   ]
  },
  {
   "cell_type": "code",
   "execution_count": null,
   "metadata": {},
   "outputs": [],
   "source": [
    "# Select rows with kswap (injective) and exhaustive (injective), with W=V=1, and omega_cope = global\n",
    "kswap_df = select_from_data(data, algorithm='kswap_decoupling', scope='global')\n",
    "exhaustive_df = select_from_data(data, algorithm='exhaustive_decoupling', scope='global')"
   ]
  },
  {
   "cell_type": "code",
   "execution_count": null,
   "metadata": {},
   "outputs": [],
   "source": [
    "# Filter out rows with failed solutions\n",
    "kswap_df = kswap_df.loc[kswap_df['cost'] > -1]\n",
    "exhaustive_df = exhaustive_df.loc[exhaustive_df['cost'] > -1]"
   ]
  },
  {
   "cell_type": "code",
   "execution_count": null,
   "metadata": {},
   "outputs": [],
   "source": [
    "df = kswap_df.groupby(['W', 'V', 'k'])['cost'].describe()\n",
    "pd.set_option('display.max_rows', None)\n",
    "pd.set_option('display.max_columns', None)\n",
    "pd.set_option('display.width', None)\n",
    "display(df)"
   ]
  },
  {
   "cell_type": "code",
   "execution_count": null,
   "metadata": {},
   "outputs": [],
   "source": [
    "sns.set_style('whitegrid')\n",
    "grid = sns.FacetGrid(kswap_df, col='W', row='V')\n",
    "grid.map(sns.boxplot, 'cost', 'k', order=[0, 2, 4, 'NIL'])"
   ]
  },
  {
   "cell_type": "code",
   "execution_count": null,
   "metadata": {},
   "outputs": [],
   "source": [
    "sns.set_style('whitegrid')\n",
    "grid = sns.FacetGrid(kswap_df, col='W', row='V')\n",
    "grid.map(sns.boxplot, 'real_time', 'k', order=[0, 2, 4, 'NIL'])"
   ]
  },
  {
   "cell_type": "code",
   "execution_count": null,
   "metadata": {},
   "outputs": [],
   "source": []
  }
 ],
 "metadata": {
  "kernelspec": {
   "display_name": "seq2seq",
   "language": "python",
   "name": "python3"
  },
  "language_info": {
   "codemirror_mode": {
    "name": "ipython",
    "version": 3
   },
   "file_extension": ".py",
   "mimetype": "text/x-python",
   "name": "python",
   "nbconvert_exporter": "python",
   "pygments_lexer": "ipython3",
   "version": "3.7.8"
  }
 },
 "nbformat": 4,
 "nbformat_minor": 2
}
